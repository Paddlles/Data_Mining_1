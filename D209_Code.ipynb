{
 "cells": [
  {
   "cell_type": "code",
   "execution_count": null,
   "metadata": {},
   "outputs": [],
   "source": [
    "import pandas as pd\n",
    "\n",
    "import matplotlib.pyplot as plt\n",
    "import seaborn as sns\n",
    "\n",
    "from sklearn.preprocessing import scale\n",
    "from sklearn.model_selection import train_test_split\n",
    "from sklearn import metrics\n",
    "from sklearn.neighbors import KNeighborsClassifier\n",
    "\n",
    "import scipy.stats as stats"
   ]
  },
  {
   "cell_type": "code",
   "execution_count": null,
   "metadata": {},
   "outputs": [],
   "source": [
    "# Load data into dataframe\n",
    "file = r\"C:\\Users\\woote\\Desktop\\WGU MSDA\\[05] D209\\churn_clean.csv\"\n",
    "df = pd.read_csv(file)\n",
    "pd.set_option('display.max_columns', None)\n",
    "df.head()\n",
    "#(Python, 2022)"
   ]
  },
  {
   "cell_type": "code",
   "execution_count": null,
   "metadata": {},
   "outputs": [],
   "source": [
    "# Remove variables that are not being used to answer question\n",
    "reducedDf = df.drop(['CaseOrder','Customer_id','Interaction','UID','City'\n",
    "                        ,'State','County','Zip','Lat','Lng'\n",
    "                        ,'Population','Area','TimeZone','Job','Marital'\n",
    "                        ,'Port_modem','Tablet','InternetService','Phone','Multiple'\n",
    "                        ,'OnlineSecurity','OnlineBackup','DeviceProtection','TechSupport','StreamingTV'\n",
    "                        ,'PaperlessBilling','PaymentMethod','Bandwidth_GB_Year','Contacts','Email'\n",
    "                        ,'StreamingMovies','Age','Outage_sec_perweek','Yearly_equip_failure'\n",
    "                        ,'Income','Children'], axis=1)\n",
    "reducedDf.head()"
   ]
  },
  {
   "cell_type": "markdown",
   "metadata": {},
   "source": [
    "# Detect/Remove Missing Values in Dataset"
   ]
  },
  {
   "cell_type": "code",
   "execution_count": null,
   "metadata": {},
   "outputs": [],
   "source": [
    "# Find the Number of Duplicate Values in Each Column\n",
    "for column_name in reducedDf.columns:\n",
    "    print(column_name)\n",
    "    print(reducedDf[column_name].duplicated().sum())\n",
    "    print(\"==================================\")"
   ]
  },
  {
   "cell_type": "markdown",
   "metadata": {},
   "source": [
    "# Detect/Remove NULL Values in Dataset"
   ]
  },
  {
   "cell_type": "code",
   "execution_count": null,
   "metadata": {},
   "outputs": [],
   "source": [
    "# Detect NULL Values in Dataset\n",
    "print(reducedDf.isnull().sum())"
   ]
  },
  {
   "cell_type": "markdown",
   "metadata": {},
   "source": [
    "# Detect/Remove Outliers in Dataset"
   ]
  },
  {
   "cell_type": "code",
   "execution_count": null,
   "metadata": {},
   "outputs": [],
   "source": [
    "# Analyzing qualitative data for innapropriate data points / Outliers\n",
    "qualOutliers = ['Gender','Churn','Techie','Contract','Item1'\n",
    "                ,'Item2','Item3','Item4','Item5','Item6'\n",
    "                ,'Item7','Item8']\n",
    "\n",
    "for columnName in qualOutliers:\n",
    "        print(columnName.upper())                                                       # Make upper case for readability\n",
    "        print(str(reducedDf[columnName].unique()) + \" , Number Unique Items: \" + str(df[columnName].nunique()))\n",
    "        print(\"===============================\")                                        # Divide output for readability"
   ]
  },
  {
   "cell_type": "code",
   "execution_count": null,
   "metadata": {},
   "outputs": [],
   "source": [
    "# Analyzing quantitative data for outliers\n",
    "# When using z-score values +-3 are considered outliers\n",
    "quantOutliers = reducedDf.columns\n",
    "zscore_df = pd.DataFrame()\n",
    "\n",
    "quantOutliers = [column for column in quantOutliers if column not in qualOutliers]\n",
    "print(quantOutliers)\n",
    "\n",
    "for column in quantOutliers:\n",
    "    zscore_df[f'Z Score {column}'] = stats.zscore(reducedDf[column])\n",
    "\n",
    "zscore_df.hist()\n",
    "plt.tight_layout(pad = .5)"
   ]
  },
  {
   "cell_type": "markdown",
   "metadata": {},
   "source": [
    "# Perform Encoding"
   ]
  },
  {
   "cell_type": "code",
   "execution_count": null,
   "metadata": {},
   "outputs": [],
   "source": [
    "# Perform Nominal Encoding\n",
    "nominalYN = {\n",
    "    \"Yes\": 1\n",
    "    ,\"No\": 0\n",
    "}\n",
    "reducedDf['Techie'].replace(nominalYN, inplace=True)\n",
    "reducedDf['Contract'].replace(nominalYN, inplace=True)\n",
    "reducedDf['Churn'].replace(nominalYN, inplace=True)\n",
    "\n",
    "# Perform One-Hot Encoding on Gender Column\n",
    "encoding = pd.get_dummies(data=reducedDf.Gender, dtype=float)\n",
    "reducedDf = reducedDf.drop(['Gender'],axis=1)\n",
    "reducedDf = reducedDf.join(encoding)\n",
    "\n",
    "\n",
    "# Perform One-Hot Encoding on Contract Column\n",
    "encoding = pd.get_dummies(data=reducedDf.Contract, dtype=float)\n",
    "reducedDf = reducedDf.drop(['Contract'],axis=1)\n",
    "reducedDf = reducedDf.join(encoding)\n",
    "reducedDf.head()"
   ]
  },
  {
   "cell_type": "markdown",
   "metadata": {},
   "source": [
    "# Rename Columns"
   ]
  },
  {
   "cell_type": "code",
   "execution_count": null,
   "metadata": {},
   "outputs": [],
   "source": [
    "reducedDf.rename(columns={'Item1': 'TimeResponse', 'Item2': 'TimeFix'\n",
    "                             , 'Item3': 'TimeReplace', 'Item4': 'Reliability'\n",
    "                             , 'Item5': 'Options', 'Item6': 'RespectResponse'\n",
    "                             , 'Item7': 'CourtExch', 'Item8': 'ActiveList'\n",
    "                             , 'Month-to-month': 'MTM', 'One year':'One_year'\n",
    "                             , 'Two Year':'Two_year'}, inplace=True)\n",
    "reducedDf.head()"
   ]
  },
  {
   "cell_type": "markdown",
   "metadata": {},
   "source": [
    "## Dropping More Variables"
   ]
  },
  {
   "cell_type": "code",
   "execution_count": null,
   "metadata": {},
   "outputs": [],
   "source": [
    "reducedDf = reducedDf.drop(['Female','MTM', 'ActiveList', 'RespectResponse','CourtExch'\n",
    "                           ,'TimeFix','Nonbinary','TimeReplace','Reliability','TimeResponse'\n",
    "                           ,'Options'],axis=1)\n",
    "reducedDf.head()"
   ]
  },
  {
   "cell_type": "markdown",
   "metadata": {},
   "source": [
    "## Correlation Analysis"
   ]
  },
  {
   "cell_type": "code",
   "execution_count": null,
   "metadata": {},
   "outputs": [],
   "source": [
    "# Check correlation coefficient of all variables in the data set. \n",
    "# Make sure no variables have a high level of correlation.\n",
    "stats_df = reducedDf\n",
    "corr = stats_df.corr()\n",
    "sns.set(rc={\"figure.figsize\":(17, 10)})\n",
    "sns.heatmap(corr, cmap=\"Blues\", annot=True)\n",
    "# (Bhandari, 2023)"
   ]
  },
  {
   "cell_type": "markdown",
   "metadata": {},
   "source": [
    "## Create Train and Test Split"
   ]
  },
  {
   "cell_type": "code",
   "execution_count": null,
   "metadata": {},
   "outputs": [],
   "source": [
    "# Predictor variables\n",
    "X = reducedDf[['Techie','Tenure','MonthlyCharge','Male','One_year', 'Two_year']]\n",
    "# Response variables\n",
    "y = reducedDf['Churn']\n",
    "# Create test and training set\n",
    "X_train, X_test, y_train, y_test = train_test_split(X, y, test_size=.2)\n",
    "# (Geeks for Geeks, 2022)"
   ]
  },
  {
   "cell_type": "code",
   "execution_count": null,
   "metadata": {},
   "outputs": [],
   "source": [
    "# Observe output of Training dataset\n",
    "print(X_train)\n",
    "print(\"Number of rows in training set: \" + str(len(X_train)))"
   ]
  },
  {
   "cell_type": "code",
   "execution_count": null,
   "metadata": {},
   "outputs": [],
   "source": [
    "# Observe output of Test dataset\n",
    "print(X_test)\n",
    "print(\"Number of rows in test set: \" + str(len(X_test)))"
   ]
  },
  {
   "cell_type": "markdown",
   "metadata": {},
   "source": [
    "## Output Training and Test Dataset"
   ]
  },
  {
   "cell_type": "code",
   "execution_count": null,
   "metadata": {},
   "outputs": [],
   "source": [
    "# Output of training and test datasets\n",
    "X_train.to_csv('D209_training.csv')\n",
    "X_test.to_csv('D209_test.csv')"
   ]
  },
  {
   "cell_type": "markdown",
   "metadata": {},
   "source": [
    "## Perform KNN Analysis (Pre Scaling)"
   ]
  },
  {
   "cell_type": "code",
   "execution_count": null,
   "metadata": {},
   "outputs": [],
   "source": [
    "knn = KNeighborsClassifier(n_neighbors = 5)\n",
    "knn_model_1 = knn.fit(X_train, y_train)\n",
    "knn_model_2 = knn.fit(X_test,y_test)\n",
    "print('k-NN accuracy score for training set: %f' % knn_model_2.score(X_test, y_test))\n",
    "print('k-NN accuracy score for test set: %f' % knn_model_1.score(X_train, y_train))\n",
    "#(Bowne-Anderson, 2016) (Geeks for Geeks, 2023) (Wikipedia Contributors, 2023)"
   ]
  },
  {
   "cell_type": "markdown",
   "metadata": {},
   "source": [
    "## Peform KNN Analysis (Post Scaling)"
   ]
  },
  {
   "cell_type": "code",
   "execution_count": null,
   "metadata": {},
   "outputs": [],
   "source": [
    "# Test/Training sets are created along with scaling and creating of KNN model\n",
    "x_scale = scale(X)\n",
    "x_scale_train, x_scale_test, y_scale_train, y_scale_test = train_test_split(x_scale, y, test_size=.2)\n",
    "knn_model_3 = knn.fit(x_scale_train, y_scale_train)\n",
    "knn_model_4 =  knn.fit(x_scale_test, y_scale_test)\n",
    "print('k-NN accuracy score for scaled test set: %f' % knn_model_4.score(x_scale_test, y_scale_test))\n",
    "print('k-NN accuracy score for scaled train set: %f' % knn_model_3.score(x_scale_train, y_scale_train))\n",
    "# (Parthak, 2014) (Geeks for Geeks, 2023) (Wikipedia Contributors, 2023)"
   ]
  },
  {
   "cell_type": "code",
   "execution_count": null,
   "metadata": {},
   "outputs": [],
   "source": [
    "# Observe scaled test data\n",
    "print(x_scale_train)\n",
    "print(\"Number of rows in x_scale_train : \" + str(len(x_scale_train)))"
   ]
  },
  {
   "cell_type": "code",
   "execution_count": null,
   "metadata": {},
   "outputs": [],
   "source": [
    "# Observe scaled test data\n",
    "print(x_scale_test)\n",
    "print(\"Number of rows in x_scale_test: \" + str(len(x_scale_test)))"
   ]
  },
  {
   "cell_type": "markdown",
   "metadata": {},
   "source": [
    "## Calculating Area Under Curve (AUC)"
   ]
  },
  {
   "cell_type": "code",
   "execution_count": null,
   "metadata": {},
   "outputs": [],
   "source": [
    "# Calculating AUC\n",
    "y_pred_prob = knn.predict_proba(x_scale_test)[::,1]\n",
    "auc = metrics.roc_auc_score(y_scale_test,y_pred_prob)\n",
    "print(auc)\n",
    "# (Zach, 2021)"
   ]
  },
  {
   "cell_type": "markdown",
   "metadata": {},
   "source": [
    "### Interpretting AUC Scores\n",
    "* 0.5 = No discrimination\n",
    "* 0.5-0.7 = Poor discrimination\n",
    "* 0.7-0.8 = Acceptable discrimination\n",
    "* 0.8-0.9= Excellent discrimination\n",
    "* 0.9-1.0 = Outstanding discrimination"
   ]
  },
  {
   "cell_type": "markdown",
   "metadata": {},
   "source": [
    "## References\n",
    "\n",
    "1. https://www.geeksforgeeks.org/k-nearest-neighbours/ (K Nearest Neighbor)\n",
    "2. https://www.scribbr.com/methodology/independent-and-dependent-variables/#vs (Determine if variable is independent or dependent)\n",
    "3. https://www.datacamp.com/tutorial/preprocessing-in-data-science-part-1-centering-scaling-and-knn (KNN Algorithm Explanation)\n",
    "4. https://www.askpython.com/python/examples/data-scaling-in-python (Standardization and Normilazation of Data)\n",
    "5. https://www.geeksforgeeks.org/how-to-do-train-test-split-using-sklearn-in-python/ (Making Train and Test Set)\n",
    "6. https://realpython.com/knn-python/#a-step-by-step-knn-from-scratch-in-python (Thorough Explanation of KNN)\n",
    "7. https://www.statology.org/auc-in-python/ (Calculating and Understanding Area Under Curve)\n",
    "8. https://en.wikipedia.org/wiki/Accuracy_and_precision (Calculating accuracy in KNN model)"
   ]
  }
 ],
 "metadata": {
  "kernelspec": {
   "display_name": ".venv",
   "language": "python",
   "name": "python3"
  },
  "language_info": {
   "codemirror_mode": {
    "name": "ipython",
    "version": 3
   },
   "file_extension": ".py",
   "mimetype": "text/x-python",
   "name": "python",
   "nbconvert_exporter": "python",
   "pygments_lexer": "ipython3",
   "version": "3.11.4"
  },
  "orig_nbformat": 4
 },
 "nbformat": 4,
 "nbformat_minor": 2
}
